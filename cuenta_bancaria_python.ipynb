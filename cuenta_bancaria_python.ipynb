{
 "cells": [
  {
   "cell_type": "markdown",
   "metadata": {},
   "source": [
    "## PROGRAMAR UNA CUENTA BANCARIA"
   ]
  },
  {
   "cell_type": "code",
   "execution_count": 15,
   "metadata": {},
   "outputs": [
    {
     "name": "stdout",
     "output_type": "stream",
     "text": [
      "Cliente: Ana Gons\n",
      "Balance de cuenta 555666666: $0\n",
      "Elije: Depositar (D), Retirar (R), o Salir (S)\n",
      "Fondos insuficientes\n",
      "Cliente: Ana Gons\n",
      "Balance de cuenta 555666666: $0\n",
      "Elije: Depositar (D), Retirar (R), o Salir (S)\n",
      "Deposito realizado, tu cantidad actual es de 2000\n",
      "Cliente: Ana Gons\n",
      "Balance de cuenta 555666666: $2000\n",
      "Elije: Depositar (D), Retirar (R), o Salir (S)\n",
      "Retiro realizado, tu cantidad actual es de 1990\n",
      "Cliente: Ana Gons\n",
      "Balance de cuenta 555666666: $1990\n",
      "Elije: Depositar (D), Retirar (R), o Salir (S)\n",
      "Cliente: Ana Gons\n",
      "Balance de cuenta 555666666: $1990\n",
      "Elije: Depositar (D), Retirar (R), o Salir (S)\n",
      "Cliente: Ana Gons\n",
      "Balance de cuenta 555666666: $1990\n",
      "Elije: Depositar (D), Retirar (R), o Salir (S)\n",
      "Cliente: Ana Gons\n",
      "Balance de cuenta 555666666: $1990\n",
      "Elije: Depositar (D), Retirar (R), o Salir (S)\n",
      "Cliente: Ana Gons\n",
      "Balance de cuenta 555666666: $1990\n",
      "Gracias por operar en Banco Python\n"
     ]
    }
   ],
   "source": [
    "class Persona:\n",
    "\n",
    "    def __init__(self, nombre, apellido):\n",
    "        self.nombre = nombre\n",
    "        self.apellido = apellido\n",
    "\n",
    "\n",
    "class Cliente(Persona):\n",
    "    def __init__(self, nombre, apellido, numero_cuenta, balance = 0):\n",
    "        super().__init__(nombre, apellido)\n",
    "        self.numero_cuenta = numero_cuenta\n",
    "        self.balance = balance\n",
    "\n",
    "    def __str__(self):\n",
    "        return f\"Cliente: {self.nombre} {self.apellido}\\nBalance de cuenta {self.numero_cuenta}: ${self.balance}\"\n",
    "\n",
    "    def depositar(self, dinero):\n",
    "        self.balance += dinero\n",
    "        print(f\"Deposito realizado\")\n",
    "\n",
    "    def retirar(self, dinero_retirar):\n",
    "        if self.balance >= dinero_retirar:\n",
    "            self.balance -= dinero_retirar\n",
    "            print(f\"Retiro realizado\")\n",
    "        else:\n",
    "            print(\"Fondos insuficientes\")\n",
    "\n",
    "\n",
    "def crear_cliente():\n",
    "    nombre = input(\"Ingrese su nombre: \")\n",
    "    apellido = input(\"Ingrese su apellido: \")\n",
    "    numero_cuenta = input(\"Ingrese su numero de cuenta: \")\n",
    "    cliente = Cliente(nombre, apellido, numero_cuenta)\n",
    "    return cliente\n",
    "\n",
    "\n",
    "def inicio():\n",
    "    mi_cliente = crear_cliente()\n",
    "    print(mi_cliente)\n",
    "    opcion = 0\n",
    "\n",
    "    while opcion != 'S':\n",
    "        print('Elije: Depositar (D), Retirar (R), o Salir (S)')\n",
    "        opcion = input()\n",
    "\n",
    "        if opcion == 'D':\n",
    "            dinero_dep = int(input(\"Dinero a ingresar: \"))\n",
    "            mi_cliente.depositar(dinero_dep)\n",
    "        elif opcion == 'R':\n",
    "            dinero_ret = int(input(\"Dinero a retirar: \"))\n",
    "            mi_cliente.retirar(dinero_ret)\n",
    "        print(mi_cliente)\n",
    "\n",
    "    print(\"Gracias por operar en Banco Python\")\n",
    "\n",
    "\n",
    "inicio()"
   ]
  }
 ],
 "metadata": {
  "kernelspec": {
   "display_name": "Python 3",
   "language": "python",
   "name": "python3"
  },
  "language_info": {
   "codemirror_mode": {
    "name": "ipython",
    "version": 3
   },
   "file_extension": ".py",
   "mimetype": "text/x-python",
   "name": "python",
   "nbconvert_exporter": "python",
   "pygments_lexer": "ipython3",
   "version": "3.12.0"
  }
 },
 "nbformat": 4,
 "nbformat_minor": 2
}
